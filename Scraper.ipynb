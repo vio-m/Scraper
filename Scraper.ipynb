{
 "cells": [
  {
   "cell_type": "code",
   "execution_count": null,
   "metadata": {},
   "outputs": [],
   "source": [
    "# Importing dependancies\n",
    "import requests\n",
    "import pickle"
   ]
  },
  {
   "cell_type": "code",
   "execution_count": null,
   "metadata": {},
   "outputs": [],
   "source": [
    "# Getting a proxy list\n",
    "proxy_url = \"https://www.proxy-list.download/api/v1/get\"\n",
    "url = 'https://lasvegas.craigslist.org/'\n",
    "headers = {\"User-Agent\": \"Mozilla/5.0 (Windows NT 6.1; rv:82.0) Gecko/20100101 Firefox/82.0\"}\n",
    "\n",
    "def get_proxies(type_proxy, anon):\n",
    "    r = requests.get(proxy_url + \"?type={}&anon={}\".format(type_proxy, anon))\n",
    "    r = r.text.replace('\\r', '')\n",
    "    global plist\n",
    "    plist = r.split(\"\\n\")[:-1]\n",
    "\n",
    "get_proxies('https','elite')\n",
    "# Http Https Socks4 Socks5, Transparent Anonymous Elite"
   ]
  },
  {
   "cell_type": "code",
   "execution_count": null,
   "metadata": {},
   "outputs": [],
   "source": [
    "# Getting the source code\n",
    "for proxy in plist:\n",
    "    proxies = {\n",
    "        'http': 'http://'+proxy,\n",
    "        'https': 'https://'+proxy\n",
    "    }\n",
    "    print('Proxy used: ', proxy)\n",
    "    try:\n",
    "        r = requests.get(url, headers=headers, proxies=proxies, verify=False, timeout=10)\n",
    "        print(r.status_code)\n",
    "        content = r.text\n",
    "    except Exception as e:\n",
    "        print('Error !\\n', e)"
   ]
  },
  {
   "cell_type": "code",
   "execution_count": null,
   "metadata": {},
   "outputs": [],
   "source": [
    "# Saving the source code\n",
    "with open(\"object.pickle\", \"wb\") as f:\n",
    "     pickle.dumps(content, f)"
   ]
  },
  {
   "cell_type": "code",
   "execution_count": null,
   "metadata": {},
   "outputs": [],
   "source": []
  },
  {
   "cell_type": "code",
   "execution_count": null,
   "metadata": {},
   "outputs": [],
   "source": []
  },
  {
   "cell_type": "code",
   "execution_count": null,
   "metadata": {},
   "outputs": [],
   "source": []
  },
  {
   "cell_type": "code",
   "execution_count": null,
   "metadata": {},
   "outputs": [],
   "source": []
  },
  {
   "cell_type": "code",
   "execution_count": null,
   "metadata": {},
   "outputs": [],
   "source": []
  }
 ],
 "metadata": {
  "kernelspec": {
   "display_name": "Python 3",
   "language": "python",
   "name": "python3"
  },
  "language_info": {
   "codemirror_mode": {
    "name": "ipython",
    "version": 3
   },
   "file_extension": ".py",
   "mimetype": "text/x-python",
   "name": "python",
   "nbconvert_exporter": "python",
   "pygments_lexer": "ipython3",
   "version": "3.8.3"
  }
 },
 "nbformat": 4,
 "nbformat_minor": 4
}
